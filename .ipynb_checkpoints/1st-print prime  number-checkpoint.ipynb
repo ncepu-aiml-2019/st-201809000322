{
 "cells": [
  {
   "cell_type": "code",
   "execution_count": null,
   "metadata": {},
   "outputs": [],
   "source": [
    "print(\"Please enter the range of prime numbers you want:\")\n",
    "    x = int(input('Please enter the left range : '))\n",
    "    y = int(input('Please enter the right range : '))\n",
    "    for i in range(x,y+1):\n",
    "        num = 0\n",
    "        for j in range(1,i+1):\n",
    "            if(i%j==0):\n",
    "                num = num+1\n",
    "        if (num ==2 ):\n",
    "            print(i)\n",
    "\n",
    "    print(\"Print prime number within one hundred\")\n",
    "    for i in range(1,101):\n",
    "        num = 0\n",
    "        for j in range(1,i+1):\n",
    "            if(i%j==0):\n",
    "                num = num+1\n",
    "        if (num ==2 ):\n",
    "            print(i)"
   ]
  }
 ],
 "metadata": {
  "kernelspec": {
   "display_name": "Python 3",
   "language": "python",
   "name": "python3"
  },
  "language_info": {
   "codemirror_mode": {
    "name": "ipython",
    "version": 3
   },
   "file_extension": ".py",
   "mimetype": "text/x-python",
   "name": "python",
   "nbconvert_exporter": "python",
   "pygments_lexer": "ipython3",
   "version": "3.7.4"
  }
 },
 "nbformat": 4,
 "nbformat_minor": 2
}
